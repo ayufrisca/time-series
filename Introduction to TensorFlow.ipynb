{
  "cells": [
    {
      "cell_type": "markdown",
      "metadata": {
        "id": "view-in-github",
        "colab_type": "text"
      },
      "source": [
        "<a href=\"https://colab.research.google.com/github/ayufrisca/datacamp_repo/blob/master/Introduction%20to%20TensorFlow.ipynb\" target=\"_parent\"><img src=\"https://colab.research.google.com/assets/colab-badge.svg\" alt=\"Open In Colab\"/></a>"
      ]
    },
    {
      "cell_type": "code",
      "source": [
        "credit = pd.read_csv('credit.csv')\n",
        "credit_numpy = credit.to_numpy()\n",
        "credit.head()"
      ],
      "metadata": {
        "id": "_DZ4XyPrsIDt",
        "outputId": "1ffc6917-b9e5-4586-99a9-ab2af80b7a4e",
        "colab": {
          "base_uri": "https://localhost:8080/",
          "height": 206
        }
      },
      "execution_count": 36,
      "outputs": [
        {
          "output_type": "execute_result",
          "data": {
            "text/plain": [
              "     0    1     2        3\n",
              "0  2.0  1.0  24.0   3913.0\n",
              "1  2.0  2.0  26.0   2682.0\n",
              "2  2.0  2.0  34.0  29239.0\n",
              "3  2.0  1.0  37.0  46990.0\n",
              "4  2.0  1.0  57.0   8617.0"
            ],
            "text/html": [
              "\n",
              "  <div id=\"df-baba3cdc-b5e0-467a-bf7f-afc894481138\">\n",
              "    <div class=\"colab-df-container\">\n",
              "      <div>\n",
              "<style scoped>\n",
              "    .dataframe tbody tr th:only-of-type {\n",
              "        vertical-align: middle;\n",
              "    }\n",
              "\n",
              "    .dataframe tbody tr th {\n",
              "        vertical-align: top;\n",
              "    }\n",
              "\n",
              "    .dataframe thead th {\n",
              "        text-align: right;\n",
              "    }\n",
              "</style>\n",
              "<table border=\"1\" class=\"dataframe\">\n",
              "  <thead>\n",
              "    <tr style=\"text-align: right;\">\n",
              "      <th></th>\n",
              "      <th>0</th>\n",
              "      <th>1</th>\n",
              "      <th>2</th>\n",
              "      <th>3</th>\n",
              "    </tr>\n",
              "  </thead>\n",
              "  <tbody>\n",
              "    <tr>\n",
              "      <th>0</th>\n",
              "      <td>2.0</td>\n",
              "      <td>1.0</td>\n",
              "      <td>24.0</td>\n",
              "      <td>3913.0</td>\n",
              "    </tr>\n",
              "    <tr>\n",
              "      <th>1</th>\n",
              "      <td>2.0</td>\n",
              "      <td>2.0</td>\n",
              "      <td>26.0</td>\n",
              "      <td>2682.0</td>\n",
              "    </tr>\n",
              "    <tr>\n",
              "      <th>2</th>\n",
              "      <td>2.0</td>\n",
              "      <td>2.0</td>\n",
              "      <td>34.0</td>\n",
              "      <td>29239.0</td>\n",
              "    </tr>\n",
              "    <tr>\n",
              "      <th>3</th>\n",
              "      <td>2.0</td>\n",
              "      <td>1.0</td>\n",
              "      <td>37.0</td>\n",
              "      <td>46990.0</td>\n",
              "    </tr>\n",
              "    <tr>\n",
              "      <th>4</th>\n",
              "      <td>2.0</td>\n",
              "      <td>1.0</td>\n",
              "      <td>57.0</td>\n",
              "      <td>8617.0</td>\n",
              "    </tr>\n",
              "  </tbody>\n",
              "</table>\n",
              "</div>\n",
              "      <button class=\"colab-df-convert\" onclick=\"convertToInteractive('df-baba3cdc-b5e0-467a-bf7f-afc894481138')\"\n",
              "              title=\"Convert this dataframe to an interactive table.\"\n",
              "              style=\"display:none;\">\n",
              "        \n",
              "  <svg xmlns=\"http://www.w3.org/2000/svg\" height=\"24px\"viewBox=\"0 0 24 24\"\n",
              "       width=\"24px\">\n",
              "    <path d=\"M0 0h24v24H0V0z\" fill=\"none\"/>\n",
              "    <path d=\"M18.56 5.44l.94 2.06.94-2.06 2.06-.94-2.06-.94-.94-2.06-.94 2.06-2.06.94zm-11 1L8.5 8.5l.94-2.06 2.06-.94-2.06-.94L8.5 2.5l-.94 2.06-2.06.94zm10 10l.94 2.06.94-2.06 2.06-.94-2.06-.94-.94-2.06-.94 2.06-2.06.94z\"/><path d=\"M17.41 7.96l-1.37-1.37c-.4-.4-.92-.59-1.43-.59-.52 0-1.04.2-1.43.59L10.3 9.45l-7.72 7.72c-.78.78-.78 2.05 0 2.83L4 21.41c.39.39.9.59 1.41.59.51 0 1.02-.2 1.41-.59l7.78-7.78 2.81-2.81c.8-.78.8-2.07 0-2.86zM5.41 20L4 18.59l7.72-7.72 1.47 1.35L5.41 20z\"/>\n",
              "  </svg>\n",
              "      </button>\n",
              "      \n",
              "  <style>\n",
              "    .colab-df-container {\n",
              "      display:flex;\n",
              "      flex-wrap:wrap;\n",
              "      gap: 12px;\n",
              "    }\n",
              "\n",
              "    .colab-df-convert {\n",
              "      background-color: #E8F0FE;\n",
              "      border: none;\n",
              "      border-radius: 50%;\n",
              "      cursor: pointer;\n",
              "      display: none;\n",
              "      fill: #1967D2;\n",
              "      height: 32px;\n",
              "      padding: 0 0 0 0;\n",
              "      width: 32px;\n",
              "    }\n",
              "\n",
              "    .colab-df-convert:hover {\n",
              "      background-color: #E2EBFA;\n",
              "      box-shadow: 0px 1px 2px rgba(60, 64, 67, 0.3), 0px 1px 3px 1px rgba(60, 64, 67, 0.15);\n",
              "      fill: #174EA6;\n",
              "    }\n",
              "\n",
              "    [theme=dark] .colab-df-convert {\n",
              "      background-color: #3B4455;\n",
              "      fill: #D2E3FC;\n",
              "    }\n",
              "\n",
              "    [theme=dark] .colab-df-convert:hover {\n",
              "      background-color: #434B5C;\n",
              "      box-shadow: 0px 1px 3px 1px rgba(0, 0, 0, 0.15);\n",
              "      filter: drop-shadow(0px 1px 2px rgba(0, 0, 0, 0.3));\n",
              "      fill: #FFFFFF;\n",
              "    }\n",
              "  </style>\n",
              "\n",
              "      <script>\n",
              "        const buttonEl =\n",
              "          document.querySelector('#df-baba3cdc-b5e0-467a-bf7f-afc894481138 button.colab-df-convert');\n",
              "        buttonEl.style.display =\n",
              "          google.colab.kernel.accessAllowed ? 'block' : 'none';\n",
              "\n",
              "        async function convertToInteractive(key) {\n",
              "          const element = document.querySelector('#df-baba3cdc-b5e0-467a-bf7f-afc894481138');\n",
              "          const dataTable =\n",
              "            await google.colab.kernel.invokeFunction('convertToInteractive',\n",
              "                                                     [key], {});\n",
              "          if (!dataTable) return;\n",
              "\n",
              "          const docLinkHtml = 'Like what you see? Visit the ' +\n",
              "            '<a target=\"_blank\" href=https://colab.research.google.com/notebooks/data_table.ipynb>data table notebook</a>'\n",
              "            + ' to learn more about interactive tables.';\n",
              "          element.innerHTML = '';\n",
              "          dataTable['output_type'] = 'display_data';\n",
              "          await google.colab.output.renderOutput(dataTable, element);\n",
              "          const docLink = document.createElement('div');\n",
              "          docLink.innerHTML = docLinkHtml;\n",
              "          element.appendChild(docLink);\n",
              "        }\n",
              "      </script>\n",
              "    </div>\n",
              "  </div>\n",
              "  "
            ]
          },
          "metadata": {},
          "execution_count": 36
        }
      ]
    },
    {
      "cell_type": "code",
      "source": [
        "# Convert the credit_numpy array into  a tensorflow constant\n",
        "credit_constant = tf.constant(credit_numpy)\n",
        "\n",
        "# Print constant datatype\n",
        "print('The datatype is:', credit_constant.dtype)\n",
        "\n",
        "# Print constant shape\n",
        "print('The shape is:', credit_constant.shape)"
      ],
      "metadata": {
        "id": "J6biEHVdsrbi",
        "outputId": "a9566b2b-2a26-46b8-caf3-d4781fdf422c",
        "colab": {
          "base_uri": "https://localhost:8080/"
        }
      },
      "execution_count": 37,
      "outputs": [
        {
          "output_type": "stream",
          "name": "stdout",
          "text": [
            "The datatype is: <dtype: 'float64'>\n",
            "The shape is: (30000, 4)\n"
          ]
        }
      ]
    },
    {
      "cell_type": "code",
      "source": [
        "# Detine the 1-dimensional variable A1\n",
        "A1 = tf.Variable([1, 2, 3, 4])\n",
        "\n",
        "# Print the variable A1\n",
        "print(A1)\n",
        "\n",
        "# Convert A1 to a numpy array and assign it to B1\n",
        "B1 = A1.numpy()\n",
        "\n",
        "# Print B1\n",
        "print(B1)"
      ],
      "metadata": {
        "id": "RG2YLUqJsw0y",
        "outputId": "03fc85fd-c7ce-4d9a-d78e-a839f08c1f96",
        "colab": {
          "base_uri": "https://localhost:8080/"
        }
      },
      "execution_count": 38,
      "outputs": [
        {
          "output_type": "stream",
          "name": "stdout",
          "text": [
            "<tf.Variable 'Variable:0' shape=(4,) dtype=int32, numpy=array([1, 2, 3, 4], dtype=int32)>\n",
            "[1 2 3 4]\n"
          ]
        }
      ]
    },
    {
      "cell_type": "code",
      "source": [
        "# Define tensors A1 and A23 as constants\n",
        "A1 = tf.constant([1, 2, 3, 4])\n",
        "A23 = tf.constant([[1, 2, 3], [1, 6, 4]])\n",
        "\n",
        "# Define B1 and B23 to have the correct shape\n",
        "B1 = tf.ones_like(A1)\n",
        "B23 = tf.ones_like(A23)\n",
        "\n",
        "# Perform element-wise multiplication\n",
        "C1 = tf.multiply(A1, B1)\n",
        "C23 = tf.multiply(A23, B23)\n",
        "\n",
        "# Print the tensors C1 and C23\n",
        "print('C1: {}'.format(C1.numpy()))\n",
        "print('C23: {}'.format(C23.numpy()))"
      ],
      "metadata": {
        "id": "2Qv7PveCs0gY",
        "outputId": "80fecf8b-5561-4836-d451-8db6de1d74fb",
        "colab": {
          "base_uri": "https://localhost:8080/"
        }
      },
      "execution_count": 39,
      "outputs": [
        {
          "output_type": "stream",
          "name": "stdout",
          "text": [
            "C1: [1 2 3 4]\n",
            "C23: [[1 2 3]\n",
            " [1 6 4]]\n"
          ]
        }
      ]
    },
    {
      "cell_type": "code",
      "source": [
        "# Define features, params, and bill as constants\n",
        "features = tf.constant([[2, 24], [2, 26], [2, 57], [1, 37]])\n",
        "params = tf.constant([[1000], [150]])\n",
        "bill = tf.constant([[3913], [2682], [8617], [64400]])\n",
        "\n",
        "# Compute billpred using features and params\n",
        "billpred = tf.matmul(features, params)\n",
        "\n",
        "# Compute and print the error\n",
        "error = bill - billpred\n",
        "print(error.numpy())"
      ],
      "metadata": {
        "id": "xfIc3644s4rr",
        "outputId": "7401c39a-9c47-4ae5-f0b5-7439ac68d8d8",
        "colab": {
          "base_uri": "https://localhost:8080/"
        }
      },
      "execution_count": 40,
      "outputs": [
        {
          "output_type": "stream",
          "name": "stdout",
          "text": [
            "[[-1687]\n",
            " [-3218]\n",
            " [-1933]\n",
            " [57850]]\n"
          ]
        }
      ]
    },
    {
      "cell_type": "code",
      "source": [
        "gray_tensor = pd.read_csv('gray_tensor.csv').to_numpy()\n",
        "\n",
        "color_tensor = pd.read_csv('color_tensor.csv').to_numpy().reshape(28, 28, 3)"
      ],
      "metadata": {
        "id": "m2IWGJpGs85w"
      },
      "execution_count": 42,
      "outputs": []
    },
    {
      "cell_type": "code",
      "source": [
        "import matplotlib.pyplot as plt\n",
        "\n",
        "plt.imshow(gray_tensor, cmap=plt.cm.binary);\n",
        "# plt.imshow(image, interpolation='nearest')"
      ],
      "metadata": {
        "id": "6R4wY2ehtBnu",
        "outputId": "a1ae4206-b7e2-4f82-a616-6c97ec30b1e8",
        "colab": {
          "base_uri": "https://localhost:8080/",
          "height": 676
        }
      },
      "execution_count": 43,
      "outputs": [
        {
          "output_type": "display_data",
          "data": {
            "text/plain": [
              "<Figure size 800x800 with 1 Axes>"
            ],
            "image/png": "[encoded data removed]"
          },
          "metadata": {}
        }
      ]
    },
    {
      "cell_type": "code",
      "source": [
        "# Reshape the grayscale image tensor into a vector\n",
        "gray_vector = tf.reshape(gray_tensor, (784, 1))\n",
        "\n",
        "# Reshape the color image tensor into a vector\n",
        "color_vector = tf.reshape(color_tensor, (2352, 1))"
      ],
      "metadata": {
        "id": "beTABvaStyt9"
      },
      "execution_count": 44,
      "outputs": []
    },
    {
      "cell_type": "code",
      "source": [
        "def compute_gradient(x0):\n",
        "    # Define x as a variable with an initial value of x0\n",
        "    x = tf.Variable(x0)\n",
        "    with tf.GradientTape() as tape:\n",
        "        tape.watch(x)\n",
        "        # Define y using the multiply operation\n",
        "        y = x * x\n",
        "    # Return the gradient of y with respect to x\n",
        "    return tape.gradient(y, x).numpy()\n",
        "\n",
        "# Compute and print gradients at x = -1, 1, and 0\n",
        "print(compute_gradient(-1.0))\n",
        "print(compute_gradient(1.0))\n",
        "print(compute_gradient(0.0))"
      ],
      "metadata": {
        "id": "a8zyWGybt2nv",
        "outputId": "51fe6939-4cc7-4ea3-9eaf-d3f01240fd35",
        "colab": {
          "base_uri": "https://localhost:8080/"
        }
      },
      "execution_count": 45,
      "outputs": [
        {
          "output_type": "stream",
          "name": "stdout",
          "text": [
            "-2.0\n",
            "2.0\n",
            "0.0\n"
          ]
        }
      ]
    },
    {
      "cell_type": "code",
      "source": [
        "letter = np.array([[1.0, 0, 1.0], [1., 1., 0], [1., 0, 1.] ])\n",
        "model = np.array([[1., 0., -1.]])"
      ],
      "metadata": {
        "id": "Mum-dLm9t7eS"
      },
      "execution_count": 46,
      "outputs": []
    },
    {
      "cell_type": "code",
      "source": [
        "# Reshape model from a 1x3 to a 3x1 tensor\n",
        "model = tf.reshape(model, (3, 1))\n",
        "\n",
        "# Multiply letter by model\n",
        "output = tf.matmul(letter, model)\n",
        "\n",
        "# Sum over output and print prediction using the numpy method\n",
        "prediction = tf.reduce_sum(output)\n",
        "print(prediction.numpy())"
      ],
      "metadata": {
        "id": "qaT46mcot_yL",
        "outputId": "0c9ba5d7-e4e6-4961-c517-e09a1b3c9e6a",
        "colab": {
          "base_uri": "https://localhost:8080/"
        }
      },
      "execution_count": 47,
      "outputs": [
        {
          "output_type": "stream",
          "name": "stdout",
          "text": [
            "1.0\n"
          ]
        }
      ]
    }
  ],
  "metadata": {
    "colab": {
      "name": "Selamat Datang di Colaboratory",
      "provenance": [],
      "include_colab_link": true
    },
    "kernelspec": {
      "display_name": "Python 3",
      "name": "python3"
    }
  },
  "nbformat": 4,
  "nbformat_minor": 0
}