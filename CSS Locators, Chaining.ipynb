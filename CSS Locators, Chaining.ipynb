{
  "cells": [
    {
      "cell_type": "markdown",
      "metadata": {
        "id": "view-in-github",
        "colab_type": "text"
      },
      "source": [
        "<a href=\"https://colab.research.google.com/github/ayufrisca/datacamp_repo/blob/master/CSS%20Locators%2C%20Chaining%2C%20and%20Responses.ipynb\" target=\"_parent\"><img src=\"https://colab.research.google.com/assets/colab-badge.svg\" alt=\"Open In Colab\"/></a>"
      ]
    },
    {
      "cell_type": "code",
      "source": [
        "from scrapy import Selector"
      ],
      "metadata": {
        "id": "sNidXNlR48hn"
      },
      "execution_count": 31,
      "outputs": []
    },
    {
      "cell_type": "code",
      "source": [
        "# Create the XPath string equivalent to the CSS Locator\n",
        "xpath = '/html/body/span[1]//a'\n",
        "\n",
        "# Create the CSS Locator string equivalent to the XPath\n",
        "css_locator = 'html > body > span:nth-of-type(1) a'\n",
        "\n",
        "# Create the XPath string equivalent to the CSS Locator\n",
        "xpath = '//div[@id=\"uid\"]/span//h4'\n",
        "\n",
        "# Create the CSS Locator string equivalent to the XPath\n",
        "css_locator = 'div#uid > span h4'"
      ],
      "metadata": {
        "id": "Iv_vTMo649tj"
      },
      "execution_count": 15,
      "outputs": []
    },
    {
      "cell_type": "code",
      "source": [
        "def how_many_elements( css ):\n",
        "    sel = Selector( text = data )\n",
        "    print( len(sel.css( css )) )"
      ],
      "metadata": {
        "id": "Jh3WQI8a5CJF"
      },
      "execution_count": 16,
      "outputs": []
    },
    {
      "cell_type": "code",
      "source": [
        "with open('all.html', 'r') as file:\n",
        "    data = file.read().replace('\\n', '')"
      ],
      "metadata": {
        "id": "J6ZQ2m-t5F75"
      },
      "execution_count": 36,
      "outputs": []
    },
    {
      "cell_type": "code",
      "source": [
        "# Create a selector from the html (of a secret website)\n",
        "sel = Selector(text=data)\n",
        "\n",
        "# Fill in the blank\n",
        "css_locator = ' div.course-block > a'\n",
        "\n",
        "# Print the number of selected elements\n",
        "how_many_elements(css_locator)"
      ],
      "metadata": {
        "id": "UuuzIvmI5JOl",
        "outputId": "c411072e-efb1-4565-82ab-22e17f88febc",
        "colab": {
          "base_uri": "https://localhost:8080/"
        }
      },
      "execution_count": 37,
      "outputs": [
        {
          "output_type": "stream",
          "name": "stdout",
          "text": [
            "11\n"
          ]
        }
      ]
    },
    {
      "cell_type": "code",
      "source": [
        "# Create the CSS Locator to all children of the element whose id is uid\n",
        "css_locator = '#uid > *'\n",
        "\n",
        "# Print the number of selected elements\n",
        "how_many_elements(css_locator)"
      ],
      "metadata": {
        "id": "ofLfngCP5NLd",
        "outputId": "08ba7dd0-0258-43de-a0a9-7580749f1103",
        "colab": {
          "base_uri": "https://localhost:8080/"
        }
      },
      "execution_count": 38,
      "outputs": [
        {
          "output_type": "stream",
          "name": "stdout",
          "text": [
            "0\n"
          ]
        }
      ]
    },
    {
      "cell_type": "code",
      "source": [
        "# Select all hyperlinks of div elements belonging to class \"course-block\"\n",
        "course_as = sel.css('div.course-block > a')\n",
        "\n",
        "# Selecting all href attributes chaining with css\n",
        "hrefs_from_css = course_as.css('::attr(href)')\n",
        "\n",
        "# Selecting all href attributes chaining with xpath\n",
        "hrefs_from_xpath = course_as.xpath('./@href')"
      ],
      "metadata": {
        "id": "PeojtQ3S5Q48"
      },
      "execution_count": 39,
      "outputs": []
    },
    {
      "cell_type": "code",
      "source": [
        "def our_xpath( xpath ):\n",
        "    xextr = sel.xpath( xpath ).extract()\n",
        "    return xextr\n",
        "\n",
        "def our_css( css ):\n",
        "    cextr = sel.css( css ).extract()\n",
        "    return cextr\n",
        "\n",
        "def print_results( xpath, css_locator ):\n",
        "    print( \"Your XPath extracts to following:\")\n",
        "    print( our_xpath(xpath) )\n",
        "    print(\"_________________\\n\")\n",
        "    print( \"Your CSS Locator extracts the following:\")\n",
        "    print( our_css(css_locator) )\n",
        "    return None"
      ],
      "metadata": {
        "id": "4wAvmceC5Uj_"
      },
      "execution_count": 21,
      "outputs": []
    },
    {
      "cell_type": "code",
      "source": [
        "with open('text_extract.html', 'r') as file:\n",
        "    html = file.read().replace('\\n', '')\n",
        "\n",
        "sel = Selector(text=html)\n",
        "\n",
        "# Create an XPath string to the desired text.\n",
        "xpath = '//p[@id=\"p3\"]/text()'\n",
        "\n",
        "# Create a CSS Locator string to the desired text\n",
        "css_locator = 'p#p3::text'\n",
        "\n",
        "# Print the text from our selection\n",
        "print_results(xpath, css_locator)"
      ],
      "metadata": {
        "id": "tCR8CQ-d5Ysn",
        "outputId": "94a4e549-d417-4102-b28d-fb6aec0b433b",
        "colab": {
          "base_uri": "https://localhost:8080/"
        }
      },
      "execution_count": 40,
      "outputs": [
        {
          "output_type": "stream",
          "name": "stdout",
          "text": [
            "Your XPath extracts to following:\n",
            "['Here is the ', ' link you want!']\n",
            "_________________\n",
            "\n",
            "Your CSS Locator extracts the following:\n",
            "['Here is the ', ' link you want!']\n"
          ]
        }
      ]
    },
    {
      "cell_type": "code",
      "source": [
        "# Create an XPath string to the desired text.\n",
        "xpath = '//p[@id=\"p3\"]//text()'\n",
        "\n",
        "# Create an CSS Locator string to the desired text\n",
        "css_locator = 'p#p3 ::text'\n",
        "\n",
        "# Print the text from our selections\n",
        "print_results(xpath, css_locator)"
      ],
      "metadata": {
        "id": "c1K1Zhtt5cKN",
        "outputId": "5d9cf161-258b-4846-acf1-1f70120eb38b",
        "colab": {
          "base_uri": "https://localhost:8080/"
        }
      },
      "execution_count": 41,
      "outputs": [
        {
          "output_type": "stream",
          "name": "stdout",
          "text": [
            "Your XPath extracts to following:\n",
            "['Here is the ', 'DataCamp', ' link you want!']\n",
            "_________________\n",
            "\n",
            "Your CSS Locator extracts the following:\n",
            "['Here is the ', 'DataCamp', ' link you want!']\n"
          ]
        }
      ]
    },
    {
      "cell_type": "code",
      "source": [
        "def print_url_title( url, title ):\n",
        "    print( \"Here is what you found:\" )\n",
        "    print( \"\\t-URL: %s\" % url )\n",
        "    print( \"\\t-Title: %s\" % title )"
      ],
      "metadata": {
        "id": "2iPcrXaQ5fwT"
      },
      "execution_count": 42,
      "outputs": []
    },
    {
      "cell_type": "code",
      "source": [
        "from scrapy.http.response.text import TextResponse\n",
        "\n",
        "response = TextResponse(url='https://www.datacamp.com/courses/all', encoding='utf-8')"
      ],
      "metadata": {
        "id": "xoEmVD4Q5jRJ"
      },
      "execution_count": 43,
      "outputs": []
    },
    {
      "cell_type": "code",
      "source": [
        "# GEt the URL to the website loaded in response\n",
        "this_url = response.url\n",
        "\n",
        "# Get the title or the website loaded in response\n",
        "this_title = response.xpath('//title/text()').extract_first()\n",
        "\n",
        "# Print out our findings\n",
        "print_url_title(this_url, this_title)"
      ],
      "metadata": {
        "id": "F7VgDWQ05mHp",
        "outputId": "69f1043a-1c27-4388-e447-f60914d17001",
        "colab": {
          "base_uri": "https://localhost:8080/"
        }
      },
      "execution_count": 44,
      "outputs": [
        {
          "output_type": "stream",
          "name": "stdout",
          "text": [
            "Here is what you found:\n",
            "\t-URL: https://www.datacamp.com/courses/all\n",
            "\t-Title: None\n"
          ]
        }
      ]
    }
  ],
  "metadata": {
    "colab": {
      "name": "Selamat Datang di Colaboratory",
      "provenance": [],
      "include_colab_link": true
    },
    "kernelspec": {
      "display_name": "Python 3",
      "name": "python3"
    }
  },
  "nbformat": 4,
  "nbformat_minor": 0
}