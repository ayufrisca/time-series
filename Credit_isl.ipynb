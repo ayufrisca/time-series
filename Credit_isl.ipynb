{
  "nbformat": 4,
  "nbformat_minor": 0,
  "metadata": {
    "colab": {
      "provenance": []
    },
    "kernelspec": {
      "name": "python3",
      "display_name": "Python 3"
    },
    "language_info": {
      "name": "python"
    }
  },
  "cells": [
    {
      "cell_type": "code",
      "source": [
        "# import the numpy and pandas package \n",
        "import numpy as np \n",
        "import pandas as pd\n",
        "\n",
        "\n",
        "credit = pd.read_csv(\"Credit-isl.csv\")"
      ],
      "metadata": {
        "id": "5yyW9SzdLrt2"
      },
      "execution_count": 136,
      "outputs": []
    },
    {
      "cell_type": "code",
      "source": [
        "advertising = pd.read_csv(\"Credit-isl.csv\")\n",
        "advertising\n"
      ],
      "metadata": {
        "colab": {
          "base_uri": "https://localhost:8080/",
          "height": 502
        },
        "id": "Uv4tX7LVyD0x",
        "outputId": "d821481b-638c-4347-84f2-1af3b9c7ee90"
      },
      "execution_count": 137,
      "outputs": [
        {
          "output_type": "execute_result",
          "data": {
            "text/plain": [
              "     Unnamed: 0   Income  Limit  Rating  Cards  Age  Education  Gender  \\\n",
              "0             1   14.891   3606     283      2   34         11    Male   \n",
              "1             2  106.025   6645     483      3   82         15  Female   \n",
              "2             3  104.593   7075     514      4   71         11    Male   \n",
              "3             4  148.924   9504     681      3   36         11  Female   \n",
              "4             5   55.882   4897     357      2   68         16    Male   \n",
              "..          ...      ...    ...     ...    ...  ...        ...     ...   \n",
              "395         396   12.096   4100     307      3   32         13    Male   \n",
              "396         397   13.364   3838     296      5   65         17    Male   \n",
              "397         398   57.872   4171     321      5   67         12  Female   \n",
              "398         399   37.728   2525     192      1   44         13    Male   \n",
              "399         400   18.701   5524     415      5   64          7  Female   \n",
              "\n",
              "    Student Married         Ethnicity  Balance  \n",
              "0        No     Yes         Caucasian      333  \n",
              "1       Yes     Yes             Asian      903  \n",
              "2        No      No             Asian      580  \n",
              "3        No      No             Asian      964  \n",
              "4        No     Yes         Caucasian      331  \n",
              "..      ...     ...               ...      ...  \n",
              "395      No     Yes         Caucasian      560  \n",
              "396      No      No  African American      480  \n",
              "397      No     Yes         Caucasian      138  \n",
              "398      No     Yes         Caucasian        0  \n",
              "399      No      No             Asian      966  \n",
              "\n",
              "[400 rows x 12 columns]"
            ],
            "text/html": [
              "\n",
              "  <div id=\"df-5c320d71-733f-4073-9aa4-a8e5e7facd05\">\n",
              "    <div class=\"colab-df-container\">\n",
              "      <div>\n",
              "<style scoped>\n",
              "    .dataframe tbody tr th:only-of-type {\n",
              "        vertical-align: middle;\n",
              "    }\n",
              "\n",
              "    .dataframe tbody tr th {\n",
              "        vertical-align: top;\n",
              "    }\n",
              "\n",
              "    .dataframe thead th {\n",
              "        text-align: right;\n",
              "    }\n",
              "</style>\n",
              "<table border=\"1\" class=\"dataframe\">\n",
              "  <thead>\n",
              "    <tr style=\"text-align: right;\">\n",
              "      <th></th>\n",
              "      <th>Unnamed: 0</th>\n",
              "      <th>Income</th>\n",
              "      <th>Limit</th>\n",
              "      <th>Rating</th>\n",
              "      <th>Cards</th>\n",
              "      <th>Age</th>\n",
              "      <th>Education</th>\n",
              "      <th>Gender</th>\n",
              "      <th>Student</th>\n",
              "      <th>Married</th>\n",
              "      <th>Ethnicity</th>\n",
              "      <th>Balance</th>\n",
              "    </tr>\n",
              "  </thead>\n",
              "  <tbody>\n",
              "    <tr>\n",
              "      <th>0</th>\n",
              "      <td>1</td>\n",
              "      <td>14.891</td>\n",
              "      <td>3606</td>\n",
              "      <td>283</td>\n",
              "      <td>2</td>\n",
              "      <td>34</td>\n",
              "      <td>11</td>\n",
              "      <td>Male</td>\n",
              "      <td>No</td>\n",
              "      <td>Yes</td>\n",
              "      <td>Caucasian</td>\n",
              "      <td>333</td>\n",
              "    </tr>\n",
              "    <tr>\n",
              "      <th>1</th>\n",
              "      <td>2</td>\n",
              "      <td>106.025</td>\n",
              "      <td>6645</td>\n",
              "      <td>483</td>\n",
              "      <td>3</td>\n",
              "      <td>82</td>\n",
              "      <td>15</td>\n",
              "      <td>Female</td>\n",
              "      <td>Yes</td>\n",
              "      <td>Yes</td>\n",
              "      <td>Asian</td>\n",
              "      <td>903</td>\n",
              "    </tr>\n",
              "    <tr>\n",
              "      <th>2</th>\n",
              "      <td>3</td>\n",
              "      <td>104.593</td>\n",
              "      <td>7075</td>\n",
              "      <td>514</td>\n",
              "      <td>4</td>\n",
              "      <td>71</td>\n",
              "      <td>11</td>\n",
              "      <td>Male</td>\n",
              "      <td>No</td>\n",
              "      <td>No</td>\n",
              "      <td>Asian</td>\n",
              "      <td>580</td>\n",
              "    </tr>\n",
              "    <tr>\n",
              "      <th>3</th>\n",
              "      <td>4</td>\n",
              "      <td>148.924</td>\n",
              "      <td>9504</td>\n",
              "      <td>681</td>\n",
              "      <td>3</td>\n",
              "      <td>36</td>\n",
              "      <td>11</td>\n",
              "      <td>Female</td>\n",
              "      <td>No</td>\n",
              "      <td>No</td>\n",
              "      <td>Asian</td>\n",
              "      <td>964</td>\n",
              "    </tr>\n",
              "    <tr>\n",
              "      <th>4</th>\n",
              "      <td>5</td>\n",
              "      <td>55.882</td>\n",
              "      <td>4897</td>\n",
              "      <td>357</td>\n",
              "      <td>2</td>\n",
              "      <td>68</td>\n",
              "      <td>16</td>\n",
              "      <td>Male</td>\n",
              "      <td>No</td>\n",
              "      <td>Yes</td>\n",
              "      <td>Caucasian</td>\n",
              "      <td>331</td>\n",
              "    </tr>\n",
              "    <tr>\n",
              "      <th>...</th>\n",
              "      <td>...</td>\n",
              "      <td>...</td>\n",
              "      <td>...</td>\n",
              "      <td>...</td>\n",
              "      <td>...</td>\n",
              "      <td>...</td>\n",
              "      <td>...</td>\n",
              "      <td>...</td>\n",
              "      <td>...</td>\n",
              "      <td>...</td>\n",
              "      <td>...</td>\n",
              "      <td>...</td>\n",
              "    </tr>\n",
              "    <tr>\n",
              "      <th>395</th>\n",
              "      <td>396</td>\n",
              "      <td>12.096</td>\n",
              "      <td>4100</td>\n",
              "      <td>307</td>\n",
              "      <td>3</td>\n",
              "      <td>32</td>\n",
              "      <td>13</td>\n",
              "      <td>Male</td>\n",
              "      <td>No</td>\n",
              "      <td>Yes</td>\n",
              "      <td>Caucasian</td>\n",
              "      <td>560</td>\n",
              "    </tr>\n",
              "    <tr>\n",
              "      <th>396</th>\n",
              "      <td>397</td>\n",
              "      <td>13.364</td>\n",
              "      <td>3838</td>\n",
              "      <td>296</td>\n",
              "      <td>5</td>\n",
              "      <td>65</td>\n",
              "      <td>17</td>\n",
              "      <td>Male</td>\n",
              "      <td>No</td>\n",
              "      <td>No</td>\n",
              "      <td>African American</td>\n",
              "      <td>480</td>\n",
              "    </tr>\n",
              "    <tr>\n",
              "      <th>397</th>\n",
              "      <td>398</td>\n",
              "      <td>57.872</td>\n",
              "      <td>4171</td>\n",
              "      <td>321</td>\n",
              "      <td>5</td>\n",
              "      <td>67</td>\n",
              "      <td>12</td>\n",
              "      <td>Female</td>\n",
              "      <td>No</td>\n",
              "      <td>Yes</td>\n",
              "      <td>Caucasian</td>\n",
              "      <td>138</td>\n",
              "    </tr>\n",
              "    <tr>\n",
              "      <th>398</th>\n",
              "      <td>399</td>\n",
              "      <td>37.728</td>\n",
              "      <td>2525</td>\n",
              "      <td>192</td>\n",
              "      <td>1</td>\n",
              "      <td>44</td>\n",
              "      <td>13</td>\n",
              "      <td>Male</td>\n",
              "      <td>No</td>\n",
              "      <td>Yes</td>\n",
              "      <td>Caucasian</td>\n",
              "      <td>0</td>\n",
              "    </tr>\n",
              "    <tr>\n",
              "      <th>399</th>\n",
              "      <td>400</td>\n",
              "      <td>18.701</td>\n",
              "      <td>5524</td>\n",
              "      <td>415</td>\n",
              "      <td>5</td>\n",
              "      <td>64</td>\n",
              "      <td>7</td>\n",
              "      <td>Female</td>\n",
              "      <td>No</td>\n",
              "      <td>No</td>\n",
              "      <td>Asian</td>\n",
              "      <td>966</td>\n",
              "    </tr>\n",
              "  </tbody>\n",
              "</table>\n",
              "<p>400 rows × 12 columns</p>\n",
              "</div>\n",
              "      <button class=\"colab-df-convert\" onclick=\"convertToInteractive('df-5c320d71-733f-4073-9aa4-a8e5e7facd05')\"\n",
              "              title=\"Convert this dataframe to an interactive table.\"\n",
              "              style=\"display:none;\">\n",
              "        \n",
              "  <svg xmlns=\"http://www.w3.org/2000/svg\" height=\"24px\"viewBox=\"0 0 24 24\"\n",
              "       width=\"24px\">\n",
              "    <path d=\"M0 0h24v24H0V0z\" fill=\"none\"/>\n",
              "    <path d=\"M18.56 5.44l.94 2.06.94-2.06 2.06-.94-2.06-.94-.94-2.06-.94 2.06-2.06.94zm-11 1L8.5 8.5l.94-2.06 2.06-.94-2.06-.94L8.5 2.5l-.94 2.06-2.06.94zm10 10l.94 2.06.94-2.06 2.06-.94-2.06-.94-.94-2.06-.94 2.06-2.06.94z\"/><path d=\"M17.41 7.96l-1.37-1.37c-.4-.4-.92-.59-1.43-.59-.52 0-1.04.2-1.43.59L10.3 9.45l-7.72 7.72c-.78.78-.78 2.05 0 2.83L4 21.41c.39.39.9.59 1.41.59.51 0 1.02-.2 1.41-.59l7.78-7.78 2.81-2.81c.8-.78.8-2.07 0-2.86zM5.41 20L4 18.59l7.72-7.72 1.47 1.35L5.41 20z\"/>\n",
              "  </svg>\n",
              "      </button>\n",
              "      \n",
              "  <style>\n",
              "    .colab-df-container {\n",
              "      display:flex;\n",
              "      flex-wrap:wrap;\n",
              "      gap: 12px;\n",
              "    }\n",
              "\n",
              "    .colab-df-convert {\n",
              "      background-color: #E8F0FE;\n",
              "      border: none;\n",
              "      border-radius: 50%;\n",
              "      cursor: pointer;\n",
              "      display: none;\n",
              "      fill: #1967D2;\n",
              "      height: 32px;\n",
              "      padding: 0 0 0 0;\n",
              "      width: 32px;\n",
              "    }\n",
              "\n",
              "    .colab-df-convert:hover {\n",
              "      background-color: #E2EBFA;\n",
              "      box-shadow: 0px 1px 2px rgba(60, 64, 67, 0.3), 0px 1px 3px 1px rgba(60, 64, 67, 0.15);\n",
              "      fill: #174EA6;\n",
              "    }\n",
              "\n",
              "    [theme=dark] .colab-df-convert {\n",
              "      background-color: #3B4455;\n",
              "      fill: #D2E3FC;\n",
              "    }\n",
              "\n",
              "    [theme=dark] .colab-df-convert:hover {\n",
              "      background-color: #434B5C;\n",
              "      box-shadow: 0px 1px 3px 1px rgba(0, 0, 0, 0.15);\n",
              "      filter: drop-shadow(0px 1px 2px rgba(0, 0, 0, 0.3));\n",
              "      fill: #FFFFFF;\n",
              "    }\n",
              "  </style>\n",
              "\n",
              "      <script>\n",
              "        const buttonEl =\n",
              "          document.querySelector('#df-5c320d71-733f-4073-9aa4-a8e5e7facd05 button.colab-df-convert');\n",
              "        buttonEl.style.display =\n",
              "          google.colab.kernel.accessAllowed ? 'block' : 'none';\n",
              "\n",
              "        async function convertToInteractive(key) {\n",
              "          const element = document.querySelector('#df-5c320d71-733f-4073-9aa4-a8e5e7facd05');\n",
              "          const dataTable =\n",
              "            await google.colab.kernel.invokeFunction('convertToInteractive',\n",
              "                                                     [key], {});\n",
              "          if (!dataTable) return;\n",
              "\n",
              "          const docLinkHtml = 'Like what you see? Visit the ' +\n",
              "            '<a target=\"_blank\" href=https://colab.research.google.com/notebooks/data_table.ipynb>data table notebook</a>'\n",
              "            + ' to learn more about interactive tables.';\n",
              "          element.innerHTML = '';\n",
              "          dataTable['output_type'] = 'display_data';\n",
              "          await google.colab.output.renderOutput(dataTable, element);\n",
              "          const docLink = document.createElement('div');\n",
              "          docLink.innerHTML = docLinkHtml;\n",
              "          element.appendChild(docLink);\n",
              "        }\n",
              "      </script>\n",
              "    </div>\n",
              "  </div>\n",
              "  "
            ]
          },
          "metadata": {},
          "execution_count": 137
        }
      ]
    },
    {
      "cell_type": "code",
      "source": [
        "# Info our dataset\n",
        "advertising.info()"
      ],
      "metadata": {
        "colab": {
          "base_uri": "https://localhost:8080/"
        },
        "id": "q-rBv5XZySMX",
        "outputId": "0125d4b2-ebaf-4dd8-f5b0-5761a67e6658"
      },
      "execution_count": 138,
      "outputs": [
        {
          "output_type": "stream",
          "name": "stdout",
          "text": [
            "<class 'pandas.core.frame.DataFrame'>\n",
            "RangeIndex: 400 entries, 0 to 399\n",
            "Data columns (total 12 columns):\n",
            " #   Column      Non-Null Count  Dtype  \n",
            "---  ------      --------------  -----  \n",
            " 0   Unnamed: 0  400 non-null    int64  \n",
            " 1   Income      400 non-null    float64\n",
            " 2   Limit       400 non-null    int64  \n",
            " 3   Rating      400 non-null    int64  \n",
            " 4   Cards       400 non-null    int64  \n",
            " 5   Age         400 non-null    int64  \n",
            " 6   Education   400 non-null    int64  \n",
            " 7   Gender      400 non-null    object \n",
            " 8   Student     400 non-null    object \n",
            " 9   Married     400 non-null    object \n",
            " 10  Ethnicity   400 non-null    object \n",
            " 11  Balance     400 non-null    int64  \n",
            "dtypes: float64(1), int64(7), object(4)\n",
            "memory usage: 37.6+ KB\n"
          ]
        }
      ]
    },
    {
      "cell_type": "code",
      "source": [
        "# Describe our dataset\n",
        "advertising.describe()\n"
      ],
      "metadata": {
        "colab": {
          "base_uri": "https://localhost:8080/",
          "height": 300
        },
        "id": "9r4szvaqycpN",
        "outputId": "51f64ec0-f076-4ece-d0cb-c91ba32fa626"
      },
      "execution_count": 139,
      "outputs": [
        {
          "output_type": "execute_result",
          "data": {
            "text/plain": [
              "       Unnamed: 0      Income         Limit      Rating       Cards  \\\n",
              "count  400.000000  400.000000    400.000000  400.000000  400.000000   \n",
              "mean   200.500000   45.218885   4735.600000  354.940000    2.957500   \n",
              "std    115.614301   35.244273   2308.198848  154.724143    1.371275   \n",
              "min      1.000000   10.354000    855.000000   93.000000    1.000000   \n",
              "25%    100.750000   21.007250   3088.000000  247.250000    2.000000   \n",
              "50%    200.500000   33.115500   4622.500000  344.000000    3.000000   \n",
              "75%    300.250000   57.470750   5872.750000  437.250000    4.000000   \n",
              "max    400.000000  186.634000  13913.000000  982.000000    9.000000   \n",
              "\n",
              "              Age   Education      Balance  \n",
              "count  400.000000  400.000000   400.000000  \n",
              "mean    55.667500   13.450000   520.015000  \n",
              "std     17.249807    3.125207   459.758877  \n",
              "min     23.000000    5.000000     0.000000  \n",
              "25%     41.750000   11.000000    68.750000  \n",
              "50%     56.000000   14.000000   459.500000  \n",
              "75%     70.000000   16.000000   863.000000  \n",
              "max     98.000000   20.000000  1999.000000  "
            ],
            "text/html": [
              "\n",
              "  <div id=\"df-55dfb9e6-de08-4a9e-8fbd-cdaeecdb3bc8\">\n",
              "    <div class=\"colab-df-container\">\n",
              "      <div>\n",
              "<style scoped>\n",
              "    .dataframe tbody tr th:only-of-type {\n",
              "        vertical-align: middle;\n",
              "    }\n",
              "\n",
              "    .dataframe tbody tr th {\n",
              "        vertical-align: top;\n",
              "    }\n",
              "\n",
              "    .dataframe thead th {\n",
              "        text-align: right;\n",
              "    }\n",
              "</style>\n",
              "<table border=\"1\" class=\"dataframe\">\n",
              "  <thead>\n",
              "    <tr style=\"text-align: right;\">\n",
              "      <th></th>\n",
              "      <th>Unnamed: 0</th>\n",
              "      <th>Income</th>\n",
              "      <th>Limit</th>\n",
              "      <th>Rating</th>\n",
              "      <th>Cards</th>\n",
              "      <th>Age</th>\n",
              "      <th>Education</th>\n",
              "      <th>Balance</th>\n",
              "    </tr>\n",
              "  </thead>\n",
              "  <tbody>\n",
              "    <tr>\n",
              "      <th>count</th>\n",
              "      <td>400.000000</td>\n",
              "      <td>400.000000</td>\n",
              "      <td>400.000000</td>\n",
              "      <td>400.000000</td>\n",
              "      <td>400.000000</td>\n",
              "      <td>400.000000</td>\n",
              "      <td>400.000000</td>\n",
              "      <td>400.000000</td>\n",
              "    </tr>\n",
              "    <tr>\n",
              "      <th>mean</th>\n",
              "      <td>200.500000</td>\n",
              "      <td>45.218885</td>\n",
              "      <td>4735.600000</td>\n",
              "      <td>354.940000</td>\n",
              "      <td>2.957500</td>\n",
              "      <td>55.667500</td>\n",
              "      <td>13.450000</td>\n",
              "      <td>520.015000</td>\n",
              "    </tr>\n",
              "    <tr>\n",
              "      <th>std</th>\n",
              "      <td>115.614301</td>\n",
              "      <td>35.244273</td>\n",
              "      <td>2308.198848</td>\n",
              "      <td>154.724143</td>\n",
              "      <td>1.371275</td>\n",
              "      <td>17.249807</td>\n",
              "      <td>3.125207</td>\n",
              "      <td>459.758877</td>\n",
              "    </tr>\n",
              "    <tr>\n",
              "      <th>min</th>\n",
              "      <td>1.000000</td>\n",
              "      <td>10.354000</td>\n",
              "      <td>855.000000</td>\n",
              "      <td>93.000000</td>\n",
              "      <td>1.000000</td>\n",
              "      <td>23.000000</td>\n",
              "      <td>5.000000</td>\n",
              "      <td>0.000000</td>\n",
              "    </tr>\n",
              "    <tr>\n",
              "      <th>25%</th>\n",
              "      <td>100.750000</td>\n",
              "      <td>21.007250</td>\n",
              "      <td>3088.000000</td>\n",
              "      <td>247.250000</td>\n",
              "      <td>2.000000</td>\n",
              "      <td>41.750000</td>\n",
              "      <td>11.000000</td>\n",
              "      <td>68.750000</td>\n",
              "    </tr>\n",
              "    <tr>\n",
              "      <th>50%</th>\n",
              "      <td>200.500000</td>\n",
              "      <td>33.115500</td>\n",
              "      <td>4622.500000</td>\n",
              "      <td>344.000000</td>\n",
              "      <td>3.000000</td>\n",
              "      <td>56.000000</td>\n",
              "      <td>14.000000</td>\n",
              "      <td>459.500000</td>\n",
              "    </tr>\n",
              "    <tr>\n",
              "      <th>75%</th>\n",
              "      <td>300.250000</td>\n",
              "      <td>57.470750</td>\n",
              "      <td>5872.750000</td>\n",
              "      <td>437.250000</td>\n",
              "      <td>4.000000</td>\n",
              "      <td>70.000000</td>\n",
              "      <td>16.000000</td>\n",
              "      <td>863.000000</td>\n",
              "    </tr>\n",
              "    <tr>\n",
              "      <th>max</th>\n",
              "      <td>400.000000</td>\n",
              "      <td>186.634000</td>\n",
              "      <td>13913.000000</td>\n",
              "      <td>982.000000</td>\n",
              "      <td>9.000000</td>\n",
              "      <td>98.000000</td>\n",
              "      <td>20.000000</td>\n",
              "      <td>1999.000000</td>\n",
              "    </tr>\n",
              "  </tbody>\n",
              "</table>\n",
              "</div>\n",
              "      <button class=\"colab-df-convert\" onclick=\"convertToInteractive('df-55dfb9e6-de08-4a9e-8fbd-cdaeecdb3bc8')\"\n",
              "              title=\"Convert this dataframe to an interactive table.\"\n",
              "              style=\"display:none;\">\n",
              "        \n",
              "  <svg xmlns=\"http://www.w3.org/2000/svg\" height=\"24px\"viewBox=\"0 0 24 24\"\n",
              "       width=\"24px\">\n",
              "    <path d=\"M0 0h24v24H0V0z\" fill=\"none\"/>\n",
              "    <path d=\"M18.56 5.44l.94 2.06.94-2.06 2.06-.94-2.06-.94-.94-2.06-.94 2.06-2.06.94zm-11 1L8.5 8.5l.94-2.06 2.06-.94-2.06-.94L8.5 2.5l-.94 2.06-2.06.94zm10 10l.94 2.06.94-2.06 2.06-.94-2.06-.94-.94-2.06-.94 2.06-2.06.94z\"/><path d=\"M17.41 7.96l-1.37-1.37c-.4-.4-.92-.59-1.43-.59-.52 0-1.04.2-1.43.59L10.3 9.45l-7.72 7.72c-.78.78-.78 2.05 0 2.83L4 21.41c.39.39.9.59 1.41.59.51 0 1.02-.2 1.41-.59l7.78-7.78 2.81-2.81c.8-.78.8-2.07 0-2.86zM5.41 20L4 18.59l7.72-7.72 1.47 1.35L5.41 20z\"/>\n",
              "  </svg>\n",
              "      </button>\n",
              "      \n",
              "  <style>\n",
              "    .colab-df-container {\n",
              "      display:flex;\n",
              "      flex-wrap:wrap;\n",
              "      gap: 12px;\n",
              "    }\n",
              "\n",
              "    .colab-df-convert {\n",
              "      background-color: #E8F0FE;\n",
              "      border: none;\n",
              "      border-radius: 50%;\n",
              "      cursor: pointer;\n",
              "      display: none;\n",
              "      fill: #1967D2;\n",
              "      height: 32px;\n",
              "      padding: 0 0 0 0;\n",
              "      width: 32px;\n",
              "    }\n",
              "\n",
              "    .colab-df-convert:hover {\n",
              "      background-color: #E2EBFA;\n",
              "      box-shadow: 0px 1px 2px rgba(60, 64, 67, 0.3), 0px 1px 3px 1px rgba(60, 64, 67, 0.15);\n",
              "      fill: #174EA6;\n",
              "    }\n",
              "\n",
              "    [theme=dark] .colab-df-convert {\n",
              "      background-color: #3B4455;\n",
              "      fill: #D2E3FC;\n",
              "    }\n",
              "\n",
              "    [theme=dark] .colab-df-convert:hover {\n",
              "      background-color: #434B5C;\n",
              "      box-shadow: 0px 1px 3px 1px rgba(0, 0, 0, 0.15);\n",
              "      filter: drop-shadow(0px 1px 2px rgba(0, 0, 0, 0.3));\n",
              "      fill: #FFFFFF;\n",
              "    }\n",
              "  </style>\n",
              "\n",
              "      <script>\n",
              "        const buttonEl =\n",
              "          document.querySelector('#df-55dfb9e6-de08-4a9e-8fbd-cdaeecdb3bc8 button.colab-df-convert');\n",
              "        buttonEl.style.display =\n",
              "          google.colab.kernel.accessAllowed ? 'block' : 'none';\n",
              "\n",
              "        async function convertToInteractive(key) {\n",
              "          const element = document.querySelector('#df-55dfb9e6-de08-4a9e-8fbd-cdaeecdb3bc8');\n",
              "          const dataTable =\n",
              "            await google.colab.kernel.invokeFunction('convertToInteractive',\n",
              "                                                     [key], {});\n",
              "          if (!dataTable) return;\n",
              "\n",
              "          const docLinkHtml = 'Like what you see? Visit the ' +\n",
              "            '<a target=\"_blank\" href=https://colab.research.google.com/notebooks/data_table.ipynb>data table notebook</a>'\n",
              "            + ' to learn more about interactive tables.';\n",
              "          element.innerHTML = '';\n",
              "          dataTable['output_type'] = 'display_data';\n",
              "          await google.colab.output.renderOutput(dataTable, element);\n",
              "          const docLink = document.createElement('div');\n",
              "          docLink.innerHTML = docLinkHtml;\n",
              "          element.appendChild(docLink);\n",
              "        }\n",
              "      </script>\n",
              "    </div>\n",
              "  </div>\n",
              "  "
            ]
          },
          "metadata": {},
          "execution_count": 139
        }
      ]
    },
    {
      "cell_type": "code",
      "source": [
        "import matplotlib.pyplot as plt\n",
        "import seaborn as sns"
      ],
      "metadata": {
        "id": "ZbG7t3U6-OQd"
      },
      "execution_count": 140,
      "outputs": []
    },
    {
      "cell_type": "code",
      "source": [
        "sns.pairplot (advertising,\n",
        "             x_vars=['Income', 'Education','Gender'],\n",
        "             y_vars='Sales', height=4,\n",
        "             aspect=1, kind='Scatter')\n",
        "plt.show()"
      ],
      "metadata": {
        "colab": {
          "base_uri": "https://localhost:8080/",
          "height": 303
        },
        "id": "NVTUQDA6-WTW",
        "outputId": "2f06ab54-6b54-442a-83e7-f8a5f788d1e3"
      },
      "execution_count": 141,
      "outputs": [
        {
          "output_type": "display_data",
          "data": {
            "text/plain": [
              "<Figure size 864x288 with 3 Axes>"
            ],
            "image/png": "[encoded data removed]"
          },
          "metadata": {
            "needs_background": "light"
          }
        }
      ]
    },
    {
      "cell_type": "code",
      "source": [
        "\n",
        "import matplotlib.pyplot as plt\n",
        "import seaborn as sns"
      ],
      "metadata": {
        "id": "qyxRi5h5ynql"
      },
      "execution_count": 142,
      "outputs": []
    },
    {
      "cell_type": "code",
      "source": [
        "sns.pairplot(advertising,\n",
        "             x_vars=['Income','Limit','Rating'],\n",
        "             y_vars='Sales', height=4, \n",
        "             aspect=1, kind='Scatter')\n",
        "plt.show()"
      ],
      "metadata": {
        "colab": {
          "base_uri": "https://localhost:8080/",
          "height": 303
        },
        "id": "dgrVCMR6LosK",
        "outputId": "288d4e8b-59bb-4db0-d3e7-558dc72a4c75"
      },
      "execution_count": 143,
      "outputs": [
        {
          "output_type": "display_data",
          "data": {
            "text/plain": [
              "<Figure size 864x288 with 3 Axes>"
            ],
            "image/png": "[encoded data removed]"
          },
          "metadata": {
            "needs_background": "light"
          }
        }
      ]
    },
    {
      "cell_type": "code",
      "source": [
        "import matplotlib.pyplot as plt\n",
        "import seaborn as sns"
      ],
      "metadata": {
        "id": "DA6ieFY-eFuT"
      },
      "execution_count": 144,
      "outputs": []
    },
    {
      "cell_type": "code",
      "source": [
        "sns.pairplot(advertising, x_vars=['Age',  'Asia Ethnicity'],\n",
        "             y_vars='Sales',  height=4,\n",
        "              aspect=1,  kind= 'Scatter' )\n",
        "plt.show()"
      ],
      "metadata": {
        "colab": {
          "base_uri": "https://localhost:8080/",
          "height": 303
        },
        "id": "F_gMozEneaU7",
        "outputId": "1fef3e1d-99da-4a2b-fd31-bffcee3d6583"
      },
      "execution_count": 145,
      "outputs": [
        {
          "output_type": "display_data",
          "data": {
            "text/plain": [
              "<Figure size 576x288 with 2 Axes>"
            ],
            "image/png": "[encoded data removed]"
          },
          "metadata": {
            "needs_background": "light"
          }
        }
      ]
    },
    {
      "cell_type": "code",
      "source": [
        "import matplotlib.pyplot as plt\n",
        "import seaborn as sns"
      ],
      "metadata": {
        "id": "LVpD_rdGfLkp"
      },
      "execution_count": 146,
      "outputs": []
    },
    {
      "cell_type": "code",
      "source": [
        "sns.pairplot(advertising,\n",
        "             x_vars=['Income','Age','Cants','Education'],\n",
        "             y_vars='Sales',height=4,\n",
        "             aspect=1, kind='Scatter')\n",
        "plt.show()"
      ],
      "metadata": {
        "colab": {
          "base_uri": "https://localhost:8080/",
          "height": 234
        },
        "id": "6aSqYUybfNeH",
        "outputId": "47df7d94-f064-41f6-b996-6b20f5eba573"
      },
      "execution_count": 147,
      "outputs": [
        {
          "output_type": "display_data",
          "data": {
            "text/plain": [
              "<Figure size 1152x288 with 4 Axes>"
            ],
            "image/png": "[encoded data removed]"
          },
          "metadata": {
            "needs_background": "light"
          }
        }
      ]
    },
    {
      "cell_type": "code",
      "source": [
        "# Visualizing the data using heatmap\n",
        "sns.heatmap(advertising.corr(),\n",
        "cmap=\"YlGnBu\", annot = True)\n",
        "plt.show()"
      ],
      "metadata": {
        "colab": {
          "base_uri": "https://localhost:8080/",
          "height": 320
        },
        "id": "xIDn7r4H0hY1",
        "outputId": "16b63840-b29d-4591-b9c2-02e5bb7317df"
      },
      "execution_count": 148,
      "outputs": [
        {
          "output_type": "display_data",
          "data": {
            "text/plain": [
              "<Figure size 432x288 with 2 Axes>"
            ],
            "image/png": "[encoded data removed]"
          },
          "metadata": {
            "needs_background": "light"
          }
        }
      ]
    },
    {
      "cell_type": "code",
      "source": [
        "\"from  sklearn.model_selection\"\n",
        "\"import train_test_split\"\n",
        "\"X_train, X_test, y_train,\"\n",
        "\"y_test = train_test_split(X, y,\"\n",
        "\"train_size = 0.7,\"\n",
        "\"test_size = 0.3 , random_state = 100)\"  "
      ],
      "metadata": {
        "colab": {
          "base_uri": "https://localhost:8080/",
          "height": 35
        },
        "id": "NbauY1UI09Z_",
        "outputId": "b06fafe6-3a7d-4ee3-a895-40056b524cf7"
      },
      "execution_count": 192,
      "outputs": [
        {
          "output_type": "execute_result",
          "data": {
            "text/plain": [
              "'test_size = 0.3 , random_state =\\xa0100)'"
            ],
            "application/vnd.google.colaboratory.intrinsic+json": {
              "type": "string"
            }
          },
          "metadata": {},
          "execution_count": 192
        }
      ]
    },
    {
      "cell_type": "code",
      "source": [
        "# Importing Statsmodels.api library from stamodel package\n",
        "import  statsmodels.api as sm\n",
        "# Adding a constant to get an intercept\n",
        "'X_train_sm =  sm.add_constant  ( X_train )'"
      ],
      "metadata": {
        "colab": {
          "base_uri": "https://localhost:8080/",
          "height": 35
        },
        "id": "PUPSbnPiFE58",
        "outputId": "a6de69d7-3d6b-4e09-f59b-b8f941cca715"
      },
      "execution_count": 150,
      "outputs": [
        {
          "output_type": "execute_result",
          "data": {
            "text/plain": [
              "'X_train_sm =  sm.add_constant  ( X_train )'"
            ],
            "application/vnd.google.colaboratory.intrinsic+json": {
              "type": "string"
            }
          },
          "metadata": {},
          "execution_count": 150
        }
      ]
    },
    {
      "cell_type": "code",
      "source": [
        "# Fitting the resgression line using 'OLS'\n",
        "\"lr = sm.OLS (y_train, x_train_sm).fit()\"\n",
        "\n",
        "# Printing the parameters\n",
        "\"lr.params\""
      ],
      "metadata": {
        "colab": {
          "base_uri": "https://localhost:8080/",
          "height": 35
        },
        "id": "1ww_vtoaJdQl",
        "outputId": "1b4b9b15-54b4-4586-84d9-fd154bad9ab1"
      },
      "execution_count": 193,
      "outputs": [
        {
          "output_type": "execute_result",
          "data": {
            "text/plain": [
              "'lr.params'"
            ],
            "application/vnd.google.colaboratory.intrinsic+json": {
              "type": "string"
            }
          },
          "metadata": {},
          "execution_count": 193
        }
      ]
    },
    {
      "cell_type": "code",
      "source": [
        "# Visualizing the regression line\n",
        "\"plt.scatter(X_train, y_train)\"\n",
        "\"plt.plot (X_train, 6.948 + 0.054*X_train, 'r')\"\n",
        "\"plt.show()\""
      ],
      "metadata": {
        "colab": {
          "base_uri": "https://localhost:8080/",
          "height": 35
        },
        "id": "9AMfxTmPF3v6",
        "outputId": "f240d7a9-b8db-4c53-e649-cbe3db59da0e"
      },
      "execution_count": 194,
      "outputs": [
        {
          "output_type": "execute_result",
          "data": {
            "text/plain": [
              "'plt.show()'"
            ],
            "application/vnd.google.colaboratory.intrinsic+json": {
              "type": "string"
            }
          },
          "metadata": {},
          "execution_count": 194
        }
      ]
    },
    {
      "cell_type": "code",
      "source": [
        "# Predicting y_value using traingn data of X\n",
        "\"y_train_pred = Ir.predict(X_train_sm)\"\n",
        "\"y_train_pred = Ir.predict(X_train_sm)\"\n",
        "\n",
        "# Creating residuals from the y_train data and predicted y_data\n",
        "\"res = (y_train - y_train_pred)\"\n",
        "\"res =(y_train - y_train_pred)\""
      ],
      "metadata": {
        "colab": {
          "base_uri": "https://localhost:8080/",
          "height": 35
        },
        "id": "Lq7FXJiq683J",
        "outputId": "8b2ce7ad-7ac6-42e7-e192-c016a2a6bec2"
      },
      "execution_count": 195,
      "outputs": [
        {
          "output_type": "execute_result",
          "data": {
            "text/plain": [
              "'res =(y_train - y_train_pred)'"
            ],
            "application/vnd.google.colaboratory.intrinsic+json": {
              "type": "string"
            }
          },
          "metadata": {},
          "execution_count": 195
        }
      ]
    },
    {
      "cell_type": "code",
      "source": [
        "# Visualizing the regression line\n",
        "\"plt.scatter (X_train, y_train)\"\n",
        "\"plt.plot (X_train, 6.948 + 0.054*X_train, 'r')\"\n",
        "\"plt.show ()\""
      ],
      "metadata": {
        "id": "sl-B95R8vvnV",
        "colab": {
          "base_uri": "https://localhost:8080/",
          "height": 35
        },
        "outputId": "18187be5-229b-4fac-906e-45db957f33f5"
      },
      "execution_count": 196,
      "outputs": [
        {
          "output_type": "execute_result",
          "data": {
            "text/plain": [
              "'plt.show ()'"
            ],
            "application/vnd.google.colaboratory.intrinsic+json": {
              "type": "string"
            }
          },
          "metadata": {},
          "execution_count": 196
        }
      ]
    },
    {
      "cell_type": "code",
      "source": [
        " # Plotting the histogram  using the residual values\n",
        "\"fig = plt.figure()\"\n",
        "\"sns.distplot (res, bins = 15)\"\n",
        "\"plt.title('Error Terms', fontsize = 15)\"\n",
        "\"plt.xlabel('y_train','y_train_pred', fontsize = 15)\"\n",
        "\"plt.show()\""
      ],
      "metadata": {
        "id": "Ml93miYLxT5i",
        "colab": {
          "base_uri": "https://localhost:8080/",
          "height": 35
        },
        "outputId": "47f553d0-7102-4272-c177-4cb058ea70fd"
      },
      "execution_count": 197,
      "outputs": [
        {
          "output_type": "execute_result",
          "data": {
            "text/plain": [
              "'plt.show()'"
            ],
            "application/vnd.google.colaboratory.intrinsic+json": {
              "type": "string"
            }
          },
          "metadata": {},
          "execution_count": 197
        }
      ]
    },
    {
      "cell_type": "code",
      "source": [
        "plt.scatter('X_train','res')\n",
        "plt.show()"
      ],
      "metadata": {
        "id": "gezO-tp1xURu",
        "colab": {
          "base_uri": "https://localhost:8080/",
          "height": 266
        },
        "outputId": "be17d8ee-1e10-40f3-c740-64d888310518"
      },
      "execution_count": 160,
      "outputs": [
        {
          "output_type": "display_data",
          "data": {
            "text/plain": [
              "<Figure size 432x288 with 1 Axes>"
            ],
            "image/png": "[encoded data removed]"
          },
          "metadata": {
            "needs_background": "light"
          }
        }
      ]
    },
    {
      "cell_type": "code",
      "source": [
        "\"X_test_sm = sm.add_constant (X_test)\"\n",
        "\"y_test_pred = Ir.predict (X_test_sm)\" \n",
        "\"y_test_pred\""
      ],
      "metadata": {
        "id": "H9HAas_rx4LC",
        "colab": {
          "base_uri": "https://localhost:8080/",
          "height": 35
        },
        "outputId": "81af3b32-a252-4e34-a9a5-3b167d373ea9"
      },
      "execution_count": 191,
      "outputs": [
        {
          "output_type": "execute_result",
          "data": {
            "text/plain": [
              "'y_test_pred'"
            ],
            "application/vnd.google.colaboratory.intrinsic+json": {
              "type": "string"
            }
          },
          "metadata": {},
          "execution_count": 191
        }
      ]
    },
    {
      "cell_type": "code",
      "source": [
        "\"from sklern.metrics import r2_score\"\n",
        "\n",
        "\"r_squared =r2_score (y_test, y_test, y_test_pred)\"\n",
        "\"r_squared\""
      ],
      "metadata": {
        "id": "r-0t06toyFzw",
        "colab": {
          "base_uri": "https://localhost:8080/",
          "height": 35
        },
        "outputId": "c8ff90c4-7b35-4ed8-fb9c-ee7164b93995"
      },
      "execution_count": 189,
      "outputs": [
        {
          "output_type": "execute_result",
          "data": {
            "text/plain": [
              "'r_squared'"
            ],
            "application/vnd.google.colaboratory.intrinsic+json": {
              "type": "string"
            }
          },
          "metadata": {},
          "execution_count": 189
        }
      ]
    },
    {
      "cell_type": "code",
      "source": [
        "\"Plt.scatter(X_test, y_test\" \n",
        "\"Plt.plot(X_test, y_test_pred, 'r')\"\n",
        "\"Plt.show()\""
      ],
      "metadata": {
        "id": "VxEhjMkbymEM",
        "colab": {
          "base_uri": "https://localhost:8080/",
          "height": 35
        },
        "outputId": "86072180-d542-4954-9700-34820c269b4b"
      },
      "execution_count": 175,
      "outputs": [
        {
          "output_type": "execute_result",
          "data": {
            "text/plain": [
              "'Plt.show()'"
            ],
            "application/vnd.google.colaboratory.intrinsic+json": {
              "type": "string"
            }
          },
          "metadata": {},
          "execution_count": 175
        }
      ]
    },
    {
      "cell_type": "code",
      "source": [
        "# Splitting the data info train and test\n",
        "\"from _sklearn.model_selection import train_test_split\"\n",
        "\"X_train_lm, _X_test_lm, y_test_lm_ = \"\n",
        "\"train _test_split (X,_y,train_size = 0.7,\"\n",
        "\"test_size = 0.3, random_state =100)|\""
      ],
      "metadata": {
        "id": "pxE-GTl-yznU",
        "colab": {
          "base_uri": "https://localhost:8080/",
          "height": 35
        },
        "outputId": "e1de377e-aa0d-4f44-966e-305f8a10976f"
      },
      "execution_count": 181,
      "outputs": [
        {
          "output_type": "execute_result",
          "data": {
            "text/plain": [
              "'test_size = 0.3, random_state =100)|'"
            ],
            "application/vnd.google.colaboratory.intrinsic+json": {
              "type": "string"
            }
          },
          "metadata": {},
          "execution_count": 181
        }
      ]
    },
    {
      "cell_type": "code",
      "source": [
        "# Shape of the train set without adding column\n",
        "\"X_train_lm.shape\"\n",
        "\n",
        "# Adding additional column to the train and test data\n",
        "\"X_train_lm = X_train_lm.values.reshape(-1,1)\"\n",
        "\"X_test_lm = X_test_lm.values.reshape(-1,1)\"\n",
        "\n",
        "\"print(X_train_lm.shape)\"\n",
        "\"print(X_test_lm.shape)\""
      ],
      "metadata": {
        "id": "JaVIID37y9-d",
        "colab": {
          "base_uri": "https://localhost:8080/",
          "height": 35
        },
        "outputId": "7ca273bd-ce67-4a72-a1dc-c5af5cc40311"
      },
      "execution_count": 187,
      "outputs": [
        {
          "output_type": "execute_result",
          "data": {
            "text/plain": [
              "'print(X_test_lm.shape)'"
            ],
            "application/vnd.google.colaboratory.intrinsic+json": {
              "type": "string"
            }
          },
          "metadata": {},
          "execution_count": 187
        }
      ]
    },
    {
      "cell_type": "code",
      "source": [
        "\"from sklearn.linier_model import LinearRegression\"\n",
        "\n",
        "# Creating.linear Regression\n",
        "\"lm = LinearRegression()\"\n",
        "\"lm.fit(X_train-lm, y_train_lm)\""
      ],
      "metadata": {
        "id": "0nDNafYCzRsa",
        "colab": {
          "base_uri": "https://localhost:8080/",
          "height": 35
        },
        "outputId": "e90d0912-a09c-4acb-ad2b-6151b79dec0c"
      },
      "execution_count": 183,
      "outputs": [
        {
          "output_type": "execute_result",
          "data": {
            "text/plain": [
              "'lm.fit(X_train-lm, y_train_lm)'"
            ],
            "application/vnd.google.colaboratory.intrinsic+json": {
              "type": "string"
            }
          },
          "metadata": {},
          "execution_count": 183
        }
      ]
    },
    {
      "cell_type": "code",
      "source": [
        "\"print (Intercept :,lm.intercept_)\"\n",
        "\"print (Slope :,lm'Coef)\""
      ],
      "metadata": {
        "id": "UuPJQaZhzX8m",
        "colab": {
          "base_uri": "https://localhost:8080/",
          "height": 35
        },
        "outputId": "6781421c-44af-4dd9-a96f-9681884417a9"
      },
      "execution_count": 185,
      "outputs": [
        {
          "output_type": "execute_result",
          "data": {
            "text/plain": [
              "\"print (Slope :,lm'Coef)\""
            ],
            "application/vnd.google.colaboratory.intrinsic+json": {
              "type": "string"
            }
          },
          "metadata": {},
          "execution_count": 185
        }
      ]
    },
    {
      "cell_type": "code",
      "source": [
        "# Making Predictions of y_value\n",
        "y_train_pred = 'lm.predict (X_train_lm)'\n",
        "y_train_pred = 'lm.predict (X_test_lm)'\n",
        "\n",
        "# Comparing the r2 value of both train and test data \n",
        "'print  (r2_score(y_train,y_traind_pred))'\n",
        "'print  (r2_score(y_test,y_test_pred))'"
      ],
      "metadata": {
        "colab": {
          "base_uri": "https://localhost:8080/",
          "height": 35
        },
        "id": "JbfkZcg3NaS6",
        "outputId": "aecf6c26-8f47-4bbb-a8f6-8106f207b109"
      },
      "execution_count": 152,
      "outputs": [
        {
          "output_type": "execute_result",
          "data": {
            "text/plain": [
              "'print  (r2_score(y_test,y_test_pred))'"
            ],
            "application/vnd.google.colaboratory.intrinsic+json": {
              "type": "string"
            }
          },
          "metadata": {},
          "execution_count": 152
        }
      ]
    }
  ]
}