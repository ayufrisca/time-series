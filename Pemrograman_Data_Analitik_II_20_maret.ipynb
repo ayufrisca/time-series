{
  "nbformat": 4,
  "nbformat_minor": 0,
  "metadata": {
    "colab": {
      "provenance": []
    },
    "kernelspec": {
      "name": "python3",
      "display_name": "Python 3"
    },
    "language_info": {
      "name": "python"
    }
  },
  "cells": [
    {
      "cell_type": "code",
      "execution_count": 1,
      "metadata": {
        "id": "5gJ83D62eUVk"
      },
      "outputs": [],
      "source": [
        "import pandas as pd\n",
        "import numpy as np\n",
        "import matplotlib.pyplot as plt\n",
        "import seaborn as sns\n",
        "\n",
        "plt.rcParams['figure.figsize'] = (10, 5)"
      ]
    },
    {
      "cell_type": "code",
      "source": [
        "# Initialize seed and parameters\n",
        "np.random.seed(123)\n",
        "lam, size_1, size_2 = 5, 3, 100\n",
        "\n",
        "# Draw samples & calculate absolute difference between lambda and sample mean\n",
        "samples_1 = np.random.poisson(lam, size_1)\n",
        "samples_2 = np.random.poisson(lam, size_2)\n",
        "answer_1 = abs(lam - np.mean(samples_1))\n",
        "answer_2 = abs(lam - np.mean(samples_2))\n",
        "\n",
        "print(\"|Lambda - sample mean| with {} samples is {} and with {} samples is {}. \".format(size_1, \n",
        "                                                                                        answer_1, \n",
        "                                                                                        size_2, \n",
        "                                                                                        answer_2))"
      ],
      "metadata": {
        "colab": {
          "base_uri": "https://localhost:8080/"
        },
        "id": "eb3FOQm-eW0V",
        "outputId": "669a619e-7a12-4790-acf8-e028745f233b"
      },
      "execution_count": 2,
      "outputs": [
        {
          "output_type": "stream",
          "name": "stdout",
          "text": [
            "|Lambda - sample mean| with 3 samples is 0.33333333333333304 and with 100 samples is 0.11000000000000032. \n"
          ]
        }
      ]
    },
    {
      "cell_type": "code",
      "source": [
        "#hide\n",
        "deck_of_cards = [('Heart', 0),\n",
        " ('Heart', 1),\n",
        " ('Heart', 2),\n",
        " ('Heart', 3),\n",
        " ('Heart', 4),\n",
        " ('Heart', 5),\n",
        " ('Heart', 6),\n",
        " ('Heart', 7),\n",
        " ('Heart', 8),\n",
        " ('Heart', 9),\n",
        " ('Heart', 10),\n",
        " ('Heart', 11),\n",
        " ('Heart', 12),\n",
        " ('Club', 0),\n",
        " ('Club', 1),\n",
        " ('Club', 2),\n",
        " ('Club', 3),\n",
        " ('Club', 4),\n",
        " ('Club', 5),\n",
        " ('Club', 6),\n",
        " ('Club', 7),\n",
        " ('Club', 8),\n",
        " ('Club', 9),\n",
        " ('Club', 10),\n",
        " ('Club', 11),\n",
        " ('Club', 12),\n",
        " ('Spade', 0),\n",
        " ('Spade', 1),\n",
        " ('Spade', 2),\n",
        " ('Spade', 3),\n",
        " ('Spade', 4),\n",
        " ('Spade', 5),\n",
        " ('Spade', 6),\n",
        " ('Spade', 7),\n",
        " ('Spade', 8),\n",
        " ('Spade', 9),\n",
        " ('Spade', 10),\n",
        " ('Spade', 11),\n",
        " ('Spade', 12),\n",
        " ('Diamond', 0),\n",
        " ('Diamond', 1),\n",
        " ('Diamond', 2),\n",
        " ('Diamond', 3),\n",
        " ('Diamond', 4),\n",
        " ('Diamond', 5),\n",
        " ('Diamond', 6),\n",
        " ('Diamond', 7),\n",
        " ('Diamond', 8),\n",
        " ('Diamond', 9),\n",
        " ('Diamond', 10),\n",
        " ('Diamond', 11),\n",
        " ('Diamond', 12)]"
      ],
      "metadata": {
        "id": "EcsGKXxvecVM"
      },
      "execution_count": 3,
      "outputs": []
    },
    {
      "cell_type": "code",
      "source": [
        "# Shuffle the deck\n",
        "np.random.shuffle(deck_of_cards)\n",
        "\n",
        "# Print out the top three cars\n",
        "card_choices_after_shuffle = deck_of_cards[:3]\n",
        "print(card_choices_after_shuffle)"
      ],
      "metadata": {
        "colab": {
          "base_uri": "https://localhost:8080/"
        },
        "id": "o5Y1n-2IeiOQ",
        "outputId": "da6f55f8-4978-4fe5-b71d-e58d05f5336b"
      },
      "execution_count": 4,
      "outputs": [
        {
          "output_type": "stream",
          "name": "stdout",
          "text": [
            "[('Spade', 2), ('Heart', 9), ('Diamond', 3)]\n"
          ]
        }
      ]
    },
    {
      "cell_type": "code",
      "source": [
        "np.random.seed(123)\n",
        "die, probabilities, throws = [1, 2, 3, 4, 5, 6], [1/6, 1/6, 1/6, 1/6, 1/6, 1/6], 1\n",
        "\n",
        "# Use np.random.choice to throw the die once and record the outcome\n",
        "outcome = np.random.choice(die, size=throws, p=probabilities)\n",
        "print(\"Outcome of the throw: {}\".format(outcome[0]))"
      ],
      "metadata": {
        "colab": {
          "base_uri": "https://localhost:8080/"
        },
        "id": "o3fmp30Celkl",
        "outputId": "390953d0-774e-4a8c-8a64-0a87b70ed44f"
      },
      "execution_count": 5,
      "outputs": [
        {
          "output_type": "stream",
          "name": "stdout",
          "text": [
            "Outcome of the throw: 5\n"
          ]
        }
      ]
    },
    {
      "cell_type": "code",
      "source": [
        "np.random.seed(223)\n",
        "# Initialize number of dice, simulate & record outcome\n",
        "die, probabilities, num_dice = [1,2,3,4,5,6], [1/6, 1/6, 1/6, 1/6, 1/6, 1/6], 2\n",
        "outcomes = np.random.choice(die, size=num_dice, p=probabilities) \n",
        "\n",
        "# Win if the two dice show the same number\n",
        "if outcomes[0] == outcomes[1]: \n",
        "    answer = 'win' \n",
        "else:\n",
        "    answer = 'lose'\n",
        "\n",
        "print(\"The dice show {} and {}. You {}!\".format(outcomes[0], outcomes[1], answer))"
      ],
      "metadata": {
        "colab": {
          "base_uri": "https://localhost:8080/"
        },
        "id": "S7dYp7bMeptf",
        "outputId": "5eb7cce6-e0e4-4834-e95a-dced1c76da37"
      },
      "execution_count": 6,
      "outputs": [
        {
          "output_type": "stream",
          "name": "stdout",
          "text": [
            "The dice show 5 and 5. You win!\n"
          ]
        }
      ]
    },
    {
      "cell_type": "code",
      "source": [
        "np.random.seed(223)\n",
        "# Initialize model parameters & simulate dice throw\n",
        "die, probabilities, num_dice = [1,2,3,4,5,6], [1/6, 1/6, 1/6, 1/6, 1/6, 1/6], 2\n",
        "sims, wins = 100, 0\n",
        "\n",
        "for i in range(sims):\n",
        "    outcomes = np.random.choice(die, num_dice, p=probabilities) \n",
        "    # Increment `wins` by 1 if the dice show same number\n",
        "    if outcomes[0] == outcomes[1]: \n",
        "        wins = wins + 1 \n",
        "\n",
        "print(\"In {} games, you win {} times\".format(sims, wins))"
      ],
      "metadata": {
        "colab": {
          "base_uri": "https://localhost:8080/"
        },
        "id": "XVqfhe1Ueuvs",
        "outputId": "96ee83d2-40f6-4abe-bdac-4ee1e79733a3"
      },
      "execution_count": 7,
      "outputs": [
        {
          "output_type": "stream",
          "name": "stdout",
          "text": [
            "In 100 games, you win 25 times\n"
          ]
        }
      ]
    },
    {
      "cell_type": "code",
      "source": [
        "np.random.seed(123)\n",
        "# Pre-defined constant variables\n",
        "lottery_ticket_cost, num_tickets, grand_prize = 10, 1000, 1000000\n",
        "\n",
        "# Probability of winning\n",
        "chance_of_winning = 1 / num_tickets\n",
        "\n",
        "# Simulate a single drawing of the lottery\n",
        "gains = [-lottery_ticket_cost, grand_prize-lottery_ticket_cost]\n",
        "probability = [1 - chance_of_winning, chance_of_winning]\n",
        "outcome = np.random.choice(a=gains, size=1, p=probability, replace=True)\n",
        "\n",
        "print(\"Outcome of one drawing of the lottery is {}\".format(outcome))"
      ],
      "metadata": {
        "colab": {
          "base_uri": "https://localhost:8080/"
        },
        "id": "8B5yjppeey5r",
        "outputId": "444bec11-13de-4f46-ede8-8f761be789e5"
      },
      "execution_count": 8,
      "outputs": [
        {
          "output_type": "stream",
          "name": "stdout",
          "text": [
            "Outcome of one drawing of the lottery is [-10]\n"
          ]
        }
      ]
    },
    {
      "cell_type": "code",
      "source": [
        "np.random.seed(123)\n",
        "# Initialize size and simulate outcome\n",
        "lottery_ticket_cost, num_tickets, grand_prize = 10, 1000, 1000000\n",
        "chance_of_winning = 1/num_tickets\n",
        "size = 2000\n",
        "payoffs = [-lottery_ticket_cost, grand_prize - lottery_ticket_cost]\n",
        "probs = [1 - chance_of_winning, chance_of_winning]\n",
        "\n",
        "outcomes = np.random.choice(a=payoffs, size=size, p=probs, replace=True)\n",
        "\n",
        "# Mean of outcomes.\n",
        "answer = np.mean(outcomes)\n",
        "print(\"Average payoff from {} simulations = {}\".format(size, answer))"
      ],
      "metadata": {
        "colab": {
          "base_uri": "https://localhost:8080/"
        },
        "id": "R4LFdTeFe25b",
        "outputId": "4addfaff-1bac-4d61-9be8-8b4838b04ddd"
      },
      "execution_count": 9,
      "outputs": [
        {
          "output_type": "stream",
          "name": "stdout",
          "text": [
            "Average payoff from 2000 simulations = 1990.0\n"
          ]
        }
      ]
    },
    {
      "cell_type": "code",
      "source": [
        "np.random.seed(333)\n",
        "# Initialize simulations and cost of ticket\n",
        "sims, lottery_ticket_cost = 3000, 0\n",
        "\n",
        "# Use a while loop to increment `lottery_ticket_cost` till average value of outcomes falls below zero\n",
        "while 1:\n",
        "    outcomes = np.random.choice([-lottery_ticket_cost, grand_prize-lottery_ticket_cost],\n",
        "                 size=sims, p=[1-chance_of_winning, chance_of_winning], replace=True)\n",
        "    if outcomes.mean() < 0:\n",
        "        break\n",
        "    else:\n",
        "        lottery_ticket_cost += 1\n",
        "answer = lottery_ticket_cost - 1\n",
        "\n",
        "print(\"The highest price at which it makes sense to buy the ticket is {}\".format(answer))"
      ],
      "metadata": {
        "colab": {
          "base_uri": "https://localhost:8080/"
        },
        "id": "Ebppl6RAe7fl",
        "outputId": "4da19f9b-20b6-40f9-bb5d-cbc3f6378f47"
      },
      "execution_count": 10,
      "outputs": [
        {
          "output_type": "stream",
          "name": "stdout",
          "text": [
            "The highest price at which it makes sense to buy the ticket is 9\n"
          ]
        }
      ]
    }
  ]
}